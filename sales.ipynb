{
 "cells": [
  {
   "cell_type": "code",
   "execution_count": 49,
   "metadata": {},
   "outputs": [],
   "source": [
    "import pandas as pd\n",
    "import numpy as np\n",
    "\n",
    "import matplotlib.pyplot as plt\n",
    "import seaborn as sns"
   ]
  },
  {
   "cell_type": "code",
   "execution_count": 50,
   "metadata": {},
   "outputs": [
    {
     "data": {
      "text/html": [
       "<div>\n",
       "<style scoped>\n",
       "    .dataframe tbody tr th:only-of-type {\n",
       "        vertical-align: middle;\n",
       "    }\n",
       "\n",
       "    .dataframe tbody tr th {\n",
       "        vertical-align: top;\n",
       "    }\n",
       "\n",
       "    .dataframe thead th {\n",
       "        text-align: right;\n",
       "    }\n",
       "</style>\n",
       "<table border=\"1\" class=\"dataframe\">\n",
       "  <thead>\n",
       "    <tr style=\"text-align: right;\">\n",
       "      <th></th>\n",
       "      <th>digital</th>\n",
       "      <th>TV</th>\n",
       "      <th>radio</th>\n",
       "      <th>newspaper</th>\n",
       "      <th>sales</th>\n",
       "    </tr>\n",
       "  </thead>\n",
       "  <tbody>\n",
       "    <tr>\n",
       "      <th>1</th>\n",
       "      <td>345.15</td>\n",
       "      <td>156.0</td>\n",
       "      <td>37.8</td>\n",
       "      <td>69.2</td>\n",
       "      <td>22.1</td>\n",
       "    </tr>\n",
       "    <tr>\n",
       "      <th>2</th>\n",
       "      <td>66.75</td>\n",
       "      <td>46.0</td>\n",
       "      <td>39.3</td>\n",
       "      <td>45.1</td>\n",
       "      <td>10.4</td>\n",
       "    </tr>\n",
       "    <tr>\n",
       "      <th>3</th>\n",
       "      <td>25.80</td>\n",
       "      <td>18.3</td>\n",
       "      <td>45.9</td>\n",
       "      <td>69.3</td>\n",
       "      <td>9.3</td>\n",
       "    </tr>\n",
       "    <tr>\n",
       "      <th>4</th>\n",
       "      <td>227.25</td>\n",
       "      <td>145.1</td>\n",
       "      <td>41.3</td>\n",
       "      <td>58.5</td>\n",
       "      <td>18.5</td>\n",
       "    </tr>\n",
       "    <tr>\n",
       "      <th>5</th>\n",
       "      <td>271.20</td>\n",
       "      <td>165.2</td>\n",
       "      <td>10.8</td>\n",
       "      <td>58.4</td>\n",
       "      <td>12.9</td>\n",
       "    </tr>\n",
       "  </tbody>\n",
       "</table>\n",
       "</div>"
      ],
      "text/plain": [
       "   digital     TV  radio  newspaper  sales\n",
       "1   345.15  156.0   37.8       69.2   22.1\n",
       "2    66.75   46.0   39.3       45.1   10.4\n",
       "3    25.80   18.3   45.9       69.3    9.3\n",
       "4   227.25  145.1   41.3       58.5   18.5\n",
       "5   271.20  165.2   10.8       58.4   12.9"
      ]
     },
     "execution_count": 50,
     "metadata": {},
     "output_type": "execute_result"
    }
   ],
   "source": [
    "advertising_df = pd.read_csv(\"Advertising_2023.csv\", header=0, index_col=0)\n",
    "advertising_df.head()"
   ]
  },
  {
   "cell_type": "code",
   "execution_count": 51,
   "metadata": {},
   "outputs": [
    {
     "name": "stdout",
     "output_type": "stream",
     "text": [
      "<class 'pandas.core.frame.DataFrame'>\n",
      "Index: 1199 entries, 1 to 1197\n",
      "Data columns (total 5 columns):\n",
      " #   Column     Non-Null Count  Dtype  \n",
      "---  ------     --------------  -----  \n",
      " 0   digital    1199 non-null   float64\n",
      " 1   TV         1199 non-null   float64\n",
      " 2   radio      1199 non-null   float64\n",
      " 3   newspaper  1199 non-null   float64\n",
      " 4   sales      1199 non-null   float64\n",
      "dtypes: float64(5)\n",
      "memory usage: 56.2 KB\n"
     ]
    }
   ],
   "source": [
    "advertising_df.info()"
   ]
  },
  {
   "cell_type": "code",
   "execution_count": 52,
   "metadata": {},
   "outputs": [
    {
     "data": {
      "text/html": [
       "<div>\n",
       "<style scoped>\n",
       "    .dataframe tbody tr th:only-of-type {\n",
       "        vertical-align: middle;\n",
       "    }\n",
       "\n",
       "    .dataframe tbody tr th {\n",
       "        vertical-align: top;\n",
       "    }\n",
       "\n",
       "    .dataframe thead th {\n",
       "        text-align: right;\n",
       "    }\n",
       "</style>\n",
       "<table border=\"1\" class=\"dataframe\">\n",
       "  <thead>\n",
       "    <tr style=\"text-align: right;\">\n",
       "      <th></th>\n",
       "      <th>digital</th>\n",
       "      <th>TV</th>\n",
       "      <th>radio</th>\n",
       "      <th>newspaper</th>\n",
       "      <th>sales</th>\n",
       "    </tr>\n",
       "  </thead>\n",
       "  <tbody>\n",
       "    <tr>\n",
       "      <th>count</th>\n",
       "      <td>1199.000000</td>\n",
       "      <td>1199.00000</td>\n",
       "      <td>1199.000000</td>\n",
       "      <td>1199.000000</td>\n",
       "      <td>1199.000000</td>\n",
       "    </tr>\n",
       "    <tr>\n",
       "      <th>mean</th>\n",
       "      <td>135.472394</td>\n",
       "      <td>146.61985</td>\n",
       "      <td>23.240617</td>\n",
       "      <td>30.529942</td>\n",
       "      <td>14.005505</td>\n",
       "    </tr>\n",
       "    <tr>\n",
       "      <th>std</th>\n",
       "      <td>135.730821</td>\n",
       "      <td>85.61047</td>\n",
       "      <td>14.820827</td>\n",
       "      <td>21.712507</td>\n",
       "      <td>5.202804</td>\n",
       "    </tr>\n",
       "    <tr>\n",
       "      <th>min</th>\n",
       "      <td>0.300000</td>\n",
       "      <td>0.70000</td>\n",
       "      <td>0.000000</td>\n",
       "      <td>0.300000</td>\n",
       "      <td>1.600000</td>\n",
       "    </tr>\n",
       "    <tr>\n",
       "      <th>25%</th>\n",
       "      <td>24.250000</td>\n",
       "      <td>73.40000</td>\n",
       "      <td>9.950000</td>\n",
       "      <td>12.800000</td>\n",
       "      <td>10.300000</td>\n",
       "    </tr>\n",
       "    <tr>\n",
       "      <th>50%</th>\n",
       "      <td>64.650000</td>\n",
       "      <td>149.70000</td>\n",
       "      <td>22.500000</td>\n",
       "      <td>25.600000</td>\n",
       "      <td>12.900000</td>\n",
       "    </tr>\n",
       "    <tr>\n",
       "      <th>75%</th>\n",
       "      <td>256.950000</td>\n",
       "      <td>218.50000</td>\n",
       "      <td>36.500000</td>\n",
       "      <td>45.100000</td>\n",
       "      <td>17.400000</td>\n",
       "    </tr>\n",
       "    <tr>\n",
       "      <th>max</th>\n",
       "      <td>444.600000</td>\n",
       "      <td>296.40000</td>\n",
       "      <td>49.600000</td>\n",
       "      <td>114.000000</td>\n",
       "      <td>27.000000</td>\n",
       "    </tr>\n",
       "  </tbody>\n",
       "</table>\n",
       "</div>"
      ],
      "text/plain": [
       "           digital          TV        radio    newspaper        sales\n",
       "count  1199.000000  1199.00000  1199.000000  1199.000000  1199.000000\n",
       "mean    135.472394   146.61985    23.240617    30.529942    14.005505\n",
       "std     135.730821    85.61047    14.820827    21.712507     5.202804\n",
       "min       0.300000     0.70000     0.000000     0.300000     1.600000\n",
       "25%      24.250000    73.40000     9.950000    12.800000    10.300000\n",
       "50%      64.650000   149.70000    22.500000    25.600000    12.900000\n",
       "75%     256.950000   218.50000    36.500000    45.100000    17.400000\n",
       "max     444.600000   296.40000    49.600000   114.000000    27.000000"
      ]
     },
     "execution_count": 52,
     "metadata": {},
     "output_type": "execute_result"
    }
   ],
   "source": [
    "# Provides a statistical summary of the numerical columns in the dataset\n",
    "\n",
    "advertising_df.describe()"
   ]
  },
  {
   "cell_type": "code",
   "execution_count": 53,
   "metadata": {},
   "outputs": [
    {
     "data": {
      "text/plain": [
       "(1199, 5)"
      ]
     },
     "execution_count": 53,
     "metadata": {},
     "output_type": "execute_result"
    }
   ],
   "source": [
    "# Number of rows and columns in the dataset\n",
    "advertising_df.shape"
   ]
  },
  {
   "cell_type": "code",
   "execution_count": 54,
   "metadata": {},
   "outputs": [
    {
     "data": {
      "text/plain": [
       "digital      0\n",
       "TV           0\n",
       "radio        0\n",
       "newspaper    0\n",
       "sales        0\n",
       "dtype: int64"
      ]
     },
     "execution_count": 54,
     "metadata": {},
     "output_type": "execute_result"
    }
   ],
   "source": [
    "# Check for null values in the dataset\n",
    "advertising_df.isnull().sum()"
   ]
  },
  {
   "cell_type": "code",
   "execution_count": 55,
   "metadata": {},
   "outputs": [],
   "source": [
    "# Splitting the data into input features and the output feature\n",
    "\n",
    "X = advertising_df[[column for column in advertising_df.columns if column!=\"sales\"]]\n",
    "y = advertising_df[[\"sales\"]]"
   ]
  },
  {
   "cell_type": "code",
   "execution_count": 56,
   "metadata": {},
   "outputs": [],
   "source": [
    "import keras"
   ]
  },
  {
   "cell_type": "code",
   "execution_count": 57,
   "metadata": {},
   "outputs": [
    {
     "name": "stdout",
     "output_type": "stream",
     "text": [
      "[[0.89211961 0.4032179  0.0977028  0.17886333]\n",
      " [0.66254734 0.45658693 0.39008405 0.44765371]\n",
      " [0.29009225 0.20576311 0.51609436 0.77920128]\n",
      " ...\n",
      " [0.06744611 0.99272247 0.05163843 0.08536149]\n",
      " [0.19480049 0.91868871 0.08898294 0.33188231]\n",
      " [0.06744611 0.99272247 0.05163843 0.08536149]]\n"
     ]
    }
   ],
   "source": [
    "# Normalization of features\n",
    "\n",
    "normalized_feature = keras.utils.normalize(X.values)\n",
    "print(normalized_feature)"
   ]
  },
  {
   "cell_type": "code",
   "execution_count": 58,
   "metadata": {},
   "outputs": [],
   "source": [
    "# Splitting the data into train and test data\n",
    "\n",
    "from sklearn.model_selection import train_test_split\n",
    "\n",
    "X_train, X_test, y_train, y_test = train_test_split(X,y,test_size=0.3, random_state=44)"
   ]
  },
  {
   "cell_type": "code",
   "execution_count": 59,
   "metadata": {},
   "outputs": [
    {
     "name": "stdout",
     "output_type": "stream",
     "text": [
      "(839, 4)\n",
      "(360, 4)\n",
      "(839, 1)\n",
      "(360, 1)\n"
     ]
    }
   ],
   "source": [
    "print(X_train.shape)\n",
    "print(X_test.shape)\n",
    "print(y_train.shape)\n",
    "print(y_test.shape)"
   ]
  },
  {
   "cell_type": "code",
   "execution_count": 60,
   "metadata": {},
   "outputs": [],
   "source": [
    "from keras.models import Sequential\n",
    "from keras.layers import Dense"
   ]
  },
  {
   "cell_type": "markdown",
   "metadata": {},
   "source": [
    "#### Building our model"
   ]
  },
  {
   "cell_type": "code",
   "execution_count": 61,
   "metadata": {},
   "outputs": [],
   "source": [
    "model = Sequential()\n",
    "model.add(Dense(4,activation='relu'))\n",
    "model.add(Dense(3,activation='relu'))\n",
    "model.add(Dense(1))"
   ]
  },
  {
   "cell_type": "code",
   "execution_count": 62,
   "metadata": {},
   "outputs": [],
   "source": [
    "# compiling the model\n",
    "model.compile(optimizer='adam', loss='mse', metrics=['mse'])"
   ]
  },
  {
   "cell_type": "code",
   "execution_count": 63,
   "metadata": {},
   "outputs": [
    {
     "name": "stdout",
     "output_type": "stream",
     "text": [
      "Epoch 1/32\n"
     ]
    },
    {
     "name": "stdout",
     "output_type": "stream",
     "text": [
      "\u001b[1m27/27\u001b[0m \u001b[32m━━━━━━━━━━━━━━━━━━━━\u001b[0m\u001b[37m\u001b[0m \u001b[1m2s\u001b[0m 11ms/step - loss: 1769.8162 - mse: 1769.8162 - val_loss: 953.7638 - val_mse: 953.7638\n",
      "Epoch 2/32\n",
      "\u001b[1m27/27\u001b[0m \u001b[32m━━━━━━━━━━━━━━━━━━━━\u001b[0m\u001b[37m\u001b[0m \u001b[1m0s\u001b[0m 3ms/step - loss: 877.1382 - mse: 877.1382 - val_loss: 404.6704 - val_mse: 404.6704\n",
      "Epoch 3/32\n",
      "\u001b[1m27/27\u001b[0m \u001b[32m━━━━━━━━━━━━━━━━━━━━\u001b[0m\u001b[37m\u001b[0m \u001b[1m0s\u001b[0m 3ms/step - loss: 351.2867 - mse: 351.2867 - val_loss: 171.5283 - val_mse: 171.5283\n",
      "Epoch 4/32\n",
      "\u001b[1m27/27\u001b[0m \u001b[32m━━━━━━━━━━━━━━━━━━━━\u001b[0m\u001b[37m\u001b[0m \u001b[1m0s\u001b[0m 3ms/step - loss: 151.5507 - mse: 151.5507 - val_loss: 93.5630 - val_mse: 93.5630\n",
      "Epoch 5/32\n",
      "\u001b[1m27/27\u001b[0m \u001b[32m━━━━━━━━━━━━━━━━━━━━\u001b[0m\u001b[37m\u001b[0m \u001b[1m0s\u001b[0m 4ms/step - loss: 85.0176 - mse: 85.0176 - val_loss: 65.7250 - val_mse: 65.7250\n",
      "Epoch 6/32\n",
      "\u001b[1m27/27\u001b[0m \u001b[32m━━━━━━━━━━━━━━━━━━━━\u001b[0m\u001b[37m\u001b[0m \u001b[1m0s\u001b[0m 6ms/step - loss: 65.0795 - mse: 65.0795 - val_loss: 52.4833 - val_mse: 52.4833\n",
      "Epoch 7/32\n",
      "\u001b[1m27/27\u001b[0m \u001b[32m━━━━━━━━━━━━━━━━━━━━\u001b[0m\u001b[37m\u001b[0m \u001b[1m0s\u001b[0m 6ms/step - loss: 55.0953 - mse: 55.0953 - val_loss: 44.9221 - val_mse: 44.9221\n",
      "Epoch 8/32\n",
      "\u001b[1m27/27\u001b[0m \u001b[32m━━━━━━━━━━━━━━━━━━━━\u001b[0m\u001b[37m\u001b[0m \u001b[1m0s\u001b[0m 4ms/step - loss: 46.9502 - mse: 46.9502 - val_loss: 40.1883 - val_mse: 40.1883\n",
      "Epoch 9/32\n",
      "\u001b[1m27/27\u001b[0m \u001b[32m━━━━━━━━━━━━━━━━━━━━\u001b[0m\u001b[37m\u001b[0m \u001b[1m0s\u001b[0m 3ms/step - loss: 39.7441 - mse: 39.7441 - val_loss: 35.8525 - val_mse: 35.8525\n",
      "Epoch 10/32\n",
      "\u001b[1m27/27\u001b[0m \u001b[32m━━━━━━━━━━━━━━━━━━━━\u001b[0m\u001b[37m\u001b[0m \u001b[1m0s\u001b[0m 3ms/step - loss: 35.8780 - mse: 35.8780 - val_loss: 30.8031 - val_mse: 30.8031\n",
      "Epoch 11/32\n",
      "\u001b[1m27/27\u001b[0m \u001b[32m━━━━━━━━━━━━━━━━━━━━\u001b[0m\u001b[37m\u001b[0m \u001b[1m0s\u001b[0m 3ms/step - loss: 35.7525 - mse: 35.7525 - val_loss: 25.7649 - val_mse: 25.7649\n",
      "Epoch 12/32\n",
      "\u001b[1m27/27\u001b[0m \u001b[32m━━━━━━━━━━━━━━━━━━━━\u001b[0m\u001b[37m\u001b[0m \u001b[1m0s\u001b[0m 3ms/step - loss: 24.1128 - mse: 24.1128 - val_loss: 21.9915 - val_mse: 21.9915\n",
      "Epoch 13/32\n",
      "\u001b[1m27/27\u001b[0m \u001b[32m━━━━━━━━━━━━━━━━━━━━\u001b[0m\u001b[37m\u001b[0m \u001b[1m0s\u001b[0m 3ms/step - loss: 22.4893 - mse: 22.4893 - val_loss: 20.0273 - val_mse: 20.0273\n",
      "Epoch 14/32\n",
      "\u001b[1m27/27\u001b[0m \u001b[32m━━━━━━━━━━━━━━━━━━━━\u001b[0m\u001b[37m\u001b[0m \u001b[1m0s\u001b[0m 3ms/step - loss: 22.9837 - mse: 22.9837 - val_loss: 18.5047 - val_mse: 18.5047\n",
      "Epoch 15/32\n",
      "\u001b[1m27/27\u001b[0m \u001b[32m━━━━━━━━━━━━━━━━━━━━\u001b[0m\u001b[37m\u001b[0m \u001b[1m0s\u001b[0m 3ms/step - loss: 20.5198 - mse: 20.5198 - val_loss: 17.4295 - val_mse: 17.4295\n",
      "Epoch 16/32\n",
      "\u001b[1m27/27\u001b[0m \u001b[32m━━━━━━━━━━━━━━━━━━━━\u001b[0m\u001b[37m\u001b[0m \u001b[1m0s\u001b[0m 3ms/step - loss: 18.7691 - mse: 18.7691 - val_loss: 16.2423 - val_mse: 16.2423\n",
      "Epoch 17/32\n",
      "\u001b[1m27/27\u001b[0m \u001b[32m━━━━━━━━━━━━━━━━━━━━\u001b[0m\u001b[37m\u001b[0m \u001b[1m0s\u001b[0m 3ms/step - loss: 19.8637 - mse: 19.8637 - val_loss: 15.3201 - val_mse: 15.3201\n",
      "Epoch 18/32\n",
      "\u001b[1m27/27\u001b[0m \u001b[32m━━━━━━━━━━━━━━━━━━━━\u001b[0m\u001b[37m\u001b[0m \u001b[1m0s\u001b[0m 3ms/step - loss: 18.4179 - mse: 18.4179 - val_loss: 14.5244 - val_mse: 14.5244\n",
      "Epoch 19/32\n",
      "\u001b[1m27/27\u001b[0m \u001b[32m━━━━━━━━━━━━━━━━━━━━\u001b[0m\u001b[37m\u001b[0m \u001b[1m0s\u001b[0m 3ms/step - loss: 14.4023 - mse: 14.4023 - val_loss: 13.8945 - val_mse: 13.8945\n",
      "Epoch 20/32\n",
      "\u001b[1m27/27\u001b[0m \u001b[32m━━━━━━━━━━━━━━━━━━━━\u001b[0m\u001b[37m\u001b[0m \u001b[1m0s\u001b[0m 3ms/step - loss: 16.2174 - mse: 16.2174 - val_loss: 13.2505 - val_mse: 13.2505\n",
      "Epoch 21/32\n",
      "\u001b[1m27/27\u001b[0m \u001b[32m━━━━━━━━━━━━━━━━━━━━\u001b[0m\u001b[37m\u001b[0m \u001b[1m0s\u001b[0m 3ms/step - loss: 17.7436 - mse: 17.7436 - val_loss: 12.7377 - val_mse: 12.7377\n",
      "Epoch 22/32\n",
      "\u001b[1m27/27\u001b[0m \u001b[32m━━━━━━━━━━━━━━━━━━━━\u001b[0m\u001b[37m\u001b[0m \u001b[1m0s\u001b[0m 3ms/step - loss: 14.1283 - mse: 14.1283 - val_loss: 12.3851 - val_mse: 12.3851\n",
      "Epoch 23/32\n",
      "\u001b[1m27/27\u001b[0m \u001b[32m━━━━━━━━━━━━━━━━━━━━\u001b[0m\u001b[37m\u001b[0m \u001b[1m0s\u001b[0m 3ms/step - loss: 14.6297 - mse: 14.6297 - val_loss: 11.7856 - val_mse: 11.7856\n",
      "Epoch 24/32\n",
      "\u001b[1m27/27\u001b[0m \u001b[32m━━━━━━━━━━━━━━━━━━━━\u001b[0m\u001b[37m\u001b[0m \u001b[1m0s\u001b[0m 3ms/step - loss: 14.5330 - mse: 14.5330 - val_loss: 11.3617 - val_mse: 11.3617\n",
      "Epoch 25/32\n",
      "\u001b[1m27/27\u001b[0m \u001b[32m━━━━━━━━━━━━━━━━━━━━\u001b[0m\u001b[37m\u001b[0m \u001b[1m0s\u001b[0m 3ms/step - loss: 14.3850 - mse: 14.3850 - val_loss: 11.0606 - val_mse: 11.0606\n",
      "Epoch 26/32\n",
      "\u001b[1m27/27\u001b[0m \u001b[32m━━━━━━━━━━━━━━━━━━━━\u001b[0m\u001b[37m\u001b[0m \u001b[1m0s\u001b[0m 3ms/step - loss: 13.3893 - mse: 13.3893 - val_loss: 10.6885 - val_mse: 10.6885\n",
      "Epoch 27/32\n",
      "\u001b[1m27/27\u001b[0m \u001b[32m━━━━━━━━━━━━━━━━━━━━\u001b[0m\u001b[37m\u001b[0m \u001b[1m0s\u001b[0m 3ms/step - loss: 12.7222 - mse: 12.7222 - val_loss: 10.3090 - val_mse: 10.3090\n",
      "Epoch 28/32\n",
      "\u001b[1m27/27\u001b[0m \u001b[32m━━━━━━━━━━━━━━━━━━━━\u001b[0m\u001b[37m\u001b[0m \u001b[1m0s\u001b[0m 3ms/step - loss: 12.4476 - mse: 12.4476 - val_loss: 10.1194 - val_mse: 10.1194\n",
      "Epoch 29/32\n",
      "\u001b[1m27/27\u001b[0m \u001b[32m━━━━━━━━━━━━━━━━━━━━\u001b[0m\u001b[37m\u001b[0m \u001b[1m0s\u001b[0m 3ms/step - loss: 11.6043 - mse: 11.6043 - val_loss: 10.0267 - val_mse: 10.0267\n",
      "Epoch 30/32\n",
      "\u001b[1m27/27\u001b[0m \u001b[32m━━━━━━━━━━━━━━━━━━━━\u001b[0m\u001b[37m\u001b[0m \u001b[1m0s\u001b[0m 3ms/step - loss: 10.7714 - mse: 10.7714 - val_loss: 9.3702 - val_mse: 9.3702\n",
      "Epoch 31/32\n",
      "\u001b[1m27/27\u001b[0m \u001b[32m━━━━━━━━━━━━━━━━━━━━\u001b[0m\u001b[37m\u001b[0m \u001b[1m0s\u001b[0m 3ms/step - loss: 10.5574 - mse: 10.5574 - val_loss: 9.2567 - val_mse: 9.2567\n",
      "Epoch 32/32\n",
      "\u001b[1m27/27\u001b[0m \u001b[32m━━━━━━━━━━━━━━━━━━━━\u001b[0m\u001b[37m\u001b[0m \u001b[1m0s\u001b[0m 3ms/step - loss: 10.0304 - mse: 10.0304 - val_loss: 8.9861 - val_mse: 8.9861\n"
     ]
    }
   ],
   "source": [
    "history = model.fit(X_train, y_train, validation_data=(X_test, y_test), epochs=32)"
   ]
  },
  {
   "cell_type": "markdown",
   "metadata": {},
   "source": [
    "### Visualizing the training and validation loss"
   ]
  },
  {
   "cell_type": "code",
   "execution_count": 64,
   "metadata": {},
   "outputs": [
    {
     "data": {
      "image/png": "[encoded data removed]",
      "text/plain": [
       "<Figure size 640x480 with 1 Axes>"
      ]
     },
     "metadata": {},
     "output_type": "display_data"
    }
   ],
   "source": [
    "plt.plot(history.history['loss'])\n",
    "plt.plot(history.history['val_loss'])\n",
    "plt.title(\"Model Loss\")\n",
    "plt.ylabel(\"Loss\")\n",
    "plt.xlabel(\"Epoch\")\n",
    "plt.legend([\"Train\", \"Val\"], loc=\"upper right\")\n",
    "plt.show()"
   ]
  },
  {
   "cell_type": "markdown",
   "metadata": {},
   "source": [
    "### Predicting the sales"
   ]
  },
  {
   "cell_type": "code",
   "execution_count": 65,
   "metadata": {},
   "outputs": [
    {
     "name": "stdout",
     "output_type": "stream",
     "text": [
      "\u001b[1m12/12\u001b[0m \u001b[32m━━━━━━━━━━━━━━━━━━━━\u001b[0m\u001b[37m\u001b[0m \u001b[1m0s\u001b[0m 5ms/step\n",
      "[ 8.296038   6.0727143 19.140068   5.6723313 11.64976   16.12476\n",
      " 14.367706  12.135732  20.213488  22.501287   9.59791    3.5529416\n",
      "  6.7578087  5.705772  20.39366    3.708285   3.708285   7.63617\n",
      " 22.018599  17.420248   9.239726  19.837954  26.669567  12.370348\n",
      " 12.370348   8.356253  20.213488   3.8266118  7.856654  15.56279\n",
      " 12.214059   1.6014277 17.742887  23.041204   8.457069   8.100206\n",
      " 16.703817  18.981663   5.810927  11.019914  15.293753  18.466848\n",
      " 16.582026  14.547771   3.6135337  3.8024054 20.469305  18.305023\n",
      " 20.025488  16.895     14.346241  13.91067   16.90724   19.014814\n",
      "  6.8437696 19.842505  18.736269   3.5415294 17.892792   9.98677\n",
      " 16.299028  13.507931   3.826612  18.627775  10.229587  15.59009\n",
      " 14.957917   7.2035847 14.492968   5.2539763  9.322347  14.740234\n",
      "  7.011563  18.517786  12.097805   3.2130277 14.120421   1.8966192\n",
      " 21.335882  12.326294   7.229602  13.154479  22.232256  16.881153\n",
      "  6.602236  12.566606  17.558756  19.485704   3.111938  17.010286\n",
      "  8.942587  17.39348   14.542881   9.473788  11.363805  10.536465\n",
      " 18.220621   7.229602  17.859867  11.535614  14.613832  14.259364\n",
      " 15.507192  11.426186   8.356253  18.24492   13.978008  21.303097\n",
      " 18.61674    6.8437696 11.627829  12.946722  18.947306   8.138856\n",
      " 13.104679   8.15603   15.436576  12.566606  18.627775   7.2800026\n",
      "  3.2245088 28.931528  13.04143    8.5348835 11.480968  10.863395\n",
      "  5.9964304 14.136341  14.752964   7.306101   9.931854  10.096898\n",
      "  4.496648   5.206166  11.535614   5.2193933  9.968741  20.237682\n",
      "  2.6016328  3.422881  10.536465  16.881153  13.938293   4.959928\n",
      "  3.5748477  4.188257  11.363805   2.7387972 19.798885  15.316143\n",
      " 20.181257  19.174192  15.672009   6.148265  15.4242     8.847823\n",
      "  7.229602  22.629757   6.7578087 18.351864  10.992502   6.1715837\n",
      "  5.2003713 14.965397   8.008725  19.208332  14.580801   5.03344\n",
      "  7.5192914 25.219461   3.8024054 15.939914  17.010286  16.66367\n",
      " 17.09068    6.8361998  2.0992398  6.7120686 10.721284  10.946336\n",
      " 25.514559  22.89356    9.239726  24.749796   9.3015175 17.742887\n",
      "  9.152051  13.036137  14.463893  19.3177    14.26503    2.3293006\n",
      "  2.7783031 10.296346  14.133993  10.863395  16.883966   8.436643\n",
      " 11.1245    22.148977   2.6016328  8.46567   23.790442   7.5609927\n",
      "  3.5415294  5.2539763  7.5192914 13.871245   6.2949653  8.544782\n",
      " 22.89356   10.486759   9.628862  22.739237  13.540276   6.205322\n",
      " 13.342609  19.649387  22.611559   9.71193   17.349157  14.547771\n",
      " 12.370352   9.911543  12.980404   7.5192914  5.6283326 18.093397\n",
      "  7.856654  17.873108  18.794092  15.241524   4.771304   5.9800406\n",
      " 21.2614    18.466915  18.47885   14.45821   18.47885    5.511035\n",
      "  6.5789027 17.842726  11.480968   9.047715  26.991676   4.919614\n",
      " 16.449915   3.6397696  9.931434  19.140068   3.6135337  6.16735\n",
      " 17.918348  11.019914  10.105282  14.758761  15.208176  17.057457\n",
      "  7.276413  11.695479   7.9370875 15.770971  20.683142  18.328901\n",
      " 25.670727  14.492968  12.800165  17.09068   11.82905    9.71193\n",
      " 23.790442  22.18962    4.875052  15.752765  15.293753   4.2862363\n",
      "  6.1715837 13.978008  18.689241  18.220621  10.177648   4.875052\n",
      "  9.71193    3.422881   2.7783031  9.612018  15.580345   7.754672\n",
      "  6.16735   19.139927  11.64976   11.023273  15.976053  14.45821\n",
      " 14.564949   9.911545   5.4841766 14.597965   7.63617    5.9815235\n",
      " 21.67518   17.859867  14.463893  19.001036  10.614598  14.120421\n",
      "  7.183753   8.458747   9.931854   6.9280157 15.469822  13.938293\n",
      "  4.959928  12.279779  18.700968  17.873108   6.5789027 10.384725\n",
      " 20.213488   8.288174  13.04143   18.099604   6.5789027  7.754672\n",
      " 17.39348    8.7049885 23.844751  16.594738  14.957917   3.8277736\n",
      " 20.79959   13.154479  17.433054   9.846227   4.1094604 22.148977\n",
      " 17.74119    4.5714965 18.924374  11.923201   8.100206   6.8361998\n",
      "  6.302782  17.79278   24.60015   12.289617  14.542881   7.380527\n",
      " 13.724128   8.5348835  9.931854   4.9585724 19.949095  25.157507\n",
      " 14.021469  17.057457  20.691578  14.987804  12.734522   9.986772 ]\n"
     ]
    }
   ],
   "source": [
    "test_predictions = model.predict(X_test).flatten()\n",
    "print(test_predictions)"
   ]
  },
  {
   "cell_type": "code",
   "execution_count": 66,
   "metadata": {},
   "outputs": [
    {
     "name": "stdout",
     "output_type": "stream",
     "text": [
      "[ 8.296038   6.0727143 19.140068   5.6723313 11.64976   16.12476\n",
      " 14.367706  12.135732  20.213488  22.501287   9.59791    3.5529416\n",
      "  6.7578087  5.705772  20.39366    3.708285   3.708285   7.63617\n",
      " 22.018599  17.420248   9.239726  19.837954  26.669567  12.370348\n",
      " 12.370348   8.356253  20.213488   3.8266118  7.856654  15.56279\n",
      " 12.214059   1.6014277 17.742887  23.041204   8.457069   8.100206\n",
      " 16.703817  18.981663   5.810927  11.019914  15.293753  18.466848\n",
      " 16.582026  14.547771   3.6135337  3.8024054 20.469305  18.305023\n",
      " 20.025488  16.895     14.346241  13.91067   16.90724   19.014814\n",
      "  6.8437696 19.842505  18.736269   3.5415294 17.892792   9.98677\n",
      " 16.299028  13.507931   3.826612  18.627775  10.229587  15.59009\n",
      " 14.957917   7.2035847 14.492968   5.2539763  9.322347  14.740234\n",
      "  7.011563  18.517786  12.097805   3.2130277 14.120421   1.8966192\n",
      " 21.335882  12.326294   7.229602  13.154479  22.232256  16.881153\n",
      "  6.602236  12.566606  17.558756  19.485704   3.111938  17.010286\n",
      "  8.942587  17.39348   14.542881   9.473788  11.363805  10.536465\n",
      " 18.220621   7.229602  17.859867  11.535614  14.613832  14.259364\n",
      " 15.507192  11.426186   8.356253  18.24492   13.978008  21.303097\n",
      " 18.61674    6.8437696 11.627829  12.946722  18.947306   8.138856\n",
      " 13.104679   8.15603   15.436576  12.566606  18.627775   7.2800026\n",
      "  3.2245088 28.931528  13.04143    8.5348835 11.480968  10.863395\n",
      "  5.9964304 14.136341  14.752964   7.306101   9.931854  10.096898\n",
      "  4.496648   5.206166  11.535614   5.2193933  9.968741  20.237682\n",
      "  2.6016328  3.422881  10.536465  16.881153  13.938293   4.959928\n",
      "  3.5748477  4.188257  11.363805   2.7387972 19.798885  15.316143\n",
      " 20.181257  19.174192  15.672009   6.148265  15.4242     8.847823\n",
      "  7.229602  22.629757   6.7578087 18.351864  10.992502   6.1715837\n",
      "  5.2003713 14.965397   8.008725  19.208332  14.580801   5.03344\n",
      "  7.5192914 25.219461   3.8024054 15.939914  17.010286  16.66367\n",
      " 17.09068    6.8361998  2.0992398  6.7120686 10.721284  10.946336\n",
      " 25.514559  22.89356    9.239726  24.749796   9.3015175 17.742887\n",
      "  9.152051  13.036137  14.463893  19.3177    14.26503    2.3293006\n",
      "  2.7783031 10.296346  14.133993  10.863395  16.883966   8.436643\n",
      " 11.1245    22.148977   2.6016328  8.46567   23.790442   7.5609927\n",
      "  3.5415294  5.2539763  7.5192914 13.871245   6.2949653  8.544782\n",
      " 22.89356   10.486759   9.628862  22.739237  13.540276   6.205322\n",
      " 13.342609  19.649387  22.611559   9.71193   17.349157  14.547771\n",
      " 12.370352   9.911543  12.980404   7.5192914  5.6283326 18.093397\n",
      "  7.856654  17.873108  18.794092  15.241524   4.771304   5.9800406\n",
      " 21.2614    18.466915  18.47885   14.45821   18.47885    5.511035\n",
      "  6.5789027 17.842726  11.480968   9.047715  26.991676   4.919614\n",
      " 16.449915   3.6397696  9.931434  19.140068   3.6135337  6.16735\n",
      " 17.918348  11.019914  10.105282  14.758761  15.208176  17.057457\n",
      "  7.276413  11.695479   7.9370875 15.770971  20.683142  18.328901\n",
      " 25.670727  14.492968  12.800165  17.09068   11.82905    9.71193\n",
      " 23.790442  22.18962    4.875052  15.752765  15.293753   4.2862363\n",
      "  6.1715837 13.978008  18.689241  18.220621  10.177648   4.875052\n",
      "  9.71193    3.422881   2.7783031  9.612018  15.580345   7.754672\n",
      "  6.16735   19.139927  11.64976   11.023273  15.976053  14.45821\n",
      " 14.564949   9.911545   5.4841766 14.597965   7.63617    5.9815235\n",
      " 21.67518   17.859867  14.463893  19.001036  10.614598  14.120421\n",
      "  7.183753   8.458747   9.931854   6.9280157 15.469822  13.938293\n",
      "  4.959928  12.279779  18.700968  17.873108   6.5789027 10.384725\n",
      " 20.213488   8.288174  13.04143   18.099604   6.5789027  7.754672\n",
      " 17.39348    8.7049885 23.844751  16.594738  14.957917   3.8277736\n",
      " 20.79959   13.154479  17.433054   9.846227   4.1094604 22.148977\n",
      " 17.74119    4.5714965 18.924374  11.923201   8.100206   6.8361998\n",
      "  6.302782  17.79278   24.60015   12.289617  14.542881   7.380527\n",
      " 13.724128   8.5348835  9.931854   4.9585724 19.949095  25.157507\n",
      " 14.021469  17.057457  20.691578  14.987804  12.734522   9.986772 ]\n"
     ]
    }
   ],
   "source": [
    "print(test_predictions)"
   ]
  },
  {
   "cell_type": "code",
   "execution_count": 75,
   "metadata": {},
   "outputs": [
    {
     "data": {
      "text/html": [
       "<div>\n",
       "<style scoped>\n",
       "    .dataframe tbody tr th:only-of-type {\n",
       "        vertical-align: middle;\n",
       "    }\n",
       "\n",
       "    .dataframe tbody tr th {\n",
       "        vertical-align: top;\n",
       "    }\n",
       "\n",
       "    .dataframe thead th {\n",
       "        text-align: right;\n",
       "    }\n",
       "</style>\n",
       "<table border=\"1\" class=\"dataframe\">\n",
       "  <thead>\n",
       "    <tr style=\"text-align: right;\">\n",
       "      <th></th>\n",
       "      <th>True Values</th>\n",
       "      <th>Predicted Values</th>\n",
       "    </tr>\n",
       "  </thead>\n",
       "  <tbody>\n",
       "    <tr>\n",
       "      <th>0</th>\n",
       "      <td>9.6</td>\n",
       "      <td>8.296038</td>\n",
       "    </tr>\n",
       "    <tr>\n",
       "      <th>1</th>\n",
       "      <td>8.7</td>\n",
       "      <td>6.072714</td>\n",
       "    </tr>\n",
       "    <tr>\n",
       "      <th>2</th>\n",
       "      <td>22.3</td>\n",
       "      <td>19.140068</td>\n",
       "    </tr>\n",
       "    <tr>\n",
       "      <th>3</th>\n",
       "      <td>1.6</td>\n",
       "      <td>5.672331</td>\n",
       "    </tr>\n",
       "    <tr>\n",
       "      <th>4</th>\n",
       "      <td>11.7</td>\n",
       "      <td>11.649760</td>\n",
       "    </tr>\n",
       "  </tbody>\n",
       "</table>\n",
       "</div>"
      ],
      "text/plain": [
       "   True Values  Predicted Values\n",
       "0          9.6          8.296038\n",
       "1          8.7          6.072714\n",
       "2         22.3         19.140068\n",
       "3          1.6          5.672331\n",
       "4         11.7         11.649760"
      ]
     },
     "execution_count": 75,
     "metadata": {},
     "output_type": "execute_result"
    }
   ],
   "source": [
    "true_values = [el[0] for el in np.array(y_test)]\n",
    "\n",
    "true_predicted = pd.DataFrame(zip(true_values,test_predictions) , columns=[\"True Values\", \"Predicted Values\"])\n",
    "\n",
    "true_predicted.head()"
   ]
  },
  {
   "cell_type": "markdown",
   "metadata": {},
   "source": [
    "### Performance evaluation metrices"
   ]
  },
  {
   "cell_type": "code",
   "execution_count": 76,
   "metadata": {},
   "outputs": [
    {
     "name": "stdout",
     "output_type": "stream",
     "text": [
      "\u001b[1m27/27\u001b[0m \u001b[32m━━━━━━━━━━━━━━━━━━━━\u001b[0m\u001b[37m\u001b[0m \u001b[1m0s\u001b[0m 1ms/step \n",
      "The root mean squared error for training is: 3.3166569053027923\n",
      "The root mean squared error for testing is: 2.997676787459182\n"
     ]
    }
   ],
   "source": [
    "from sklearn.metrics import mean_squared_error\n",
    "\n",
    "pred_train = model.predict(X_train)\n",
    "print(f\"The root mean squared error for training is: {np.sqrt(mean_squared_error(y_train, pred_train))}\")\n",
    "\n",
    "print(f\"The root mean squared error for testing is: {np.sqrt(mean_squared_error(y_test, test_predictions))}\")\n",
    "\n"
   ]
  },
  {
   "cell_type": "code",
   "execution_count": null,
   "metadata": {},
   "outputs": [],
   "source": []
  }
 ],
 "metadata": {
  "kernelspec": {
   "display_name": "Python 3",
   "language": "python",
   "name": "python3"
  },
  "language_info": {
   "codemirror_mode": {
    "name": "ipython",
    "version": 3
   },
   "file_extension": ".py",
   "mimetype": "text/x-python",
   "name": "python",
   "nbconvert_exporter": "python",
   "pygments_lexer": "ipython3",
   "version": "3.11.5"
  }
 },
 "nbformat": 4,
 "nbformat_minor": 2
}
